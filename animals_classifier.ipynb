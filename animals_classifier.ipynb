{
 "cells": [
  {
   "cell_type": "code",
   "execution_count": 48,
   "id": "635c87f8-7fef-49f4-b0ba-fa6e8ec03395",
   "metadata": {
    "execution": {
     "iopub.execute_input": "2022-10-29T16:50:28.922164Z",
     "iopub.status.busy": "2022-10-29T16:50:28.921563Z",
     "iopub.status.idle": "2022-10-29T16:50:35.564802Z",
     "shell.execute_reply": "2022-10-29T16:50:35.563135Z",
     "shell.execute_reply.started": "2022-10-29T16:50:28.922115Z"
    }
   },
   "outputs": [
    {
     "name": "stdout",
     "output_type": "stream",
     "text": [
      "Requirement already satisfied: voila in /root/mambaforge/lib/python3.9/site-packages (0.4.0)\n",
      "Requirement already satisfied: jupyter-server<2.0.0,>=1.18 in /root/mambaforge/lib/python3.9/site-packages (from voila) (1.18.0)\n",
      "Requirement already satisfied: jupyter-client<=7.4.1,>=6.1.3 in /root/mambaforge/lib/python3.9/site-packages (from voila) (7.3.4)\n",
      "Requirement already satisfied: nbconvert<8,>=6.4.5 in /root/mambaforge/lib/python3.9/site-packages (from voila) (6.5.0)\n",
      "Requirement already satisfied: jupyterlab-server<3,>=2.3.0 in /root/mambaforge/lib/python3.9/site-packages (from voila) (2.14.0)\n",
      "Requirement already satisfied: websockets>=9.0 in /root/mambaforge/lib/python3.9/site-packages (from voila) (10.4)\n",
      "Requirement already satisfied: jupyter-core>=4.11.0 in /root/mambaforge/lib/python3.9/site-packages (from voila) (4.11.2)\n",
      "Requirement already satisfied: nbclient<0.8,>=0.4.0 in /root/mambaforge/lib/python3.9/site-packages (from voila) (0.6.4)\n",
      "Requirement already satisfied: traitlets<6,>=5.0.3 in /root/mambaforge/lib/python3.9/site-packages (from voila) (5.3.0)\n",
      "Requirement already satisfied: tornado>=6.0 in /root/mambaforge/lib/python3.9/site-packages (from jupyter-client<=7.4.1,>=6.1.3->voila) (6.1)\n",
      "Requirement already satisfied: nest-asyncio>=1.5.4 in /root/mambaforge/lib/python3.9/site-packages (from jupyter-client<=7.4.1,>=6.1.3->voila) (1.5.5)\n",
      "Requirement already satisfied: entrypoints in /root/mambaforge/lib/python3.9/site-packages (from jupyter-client<=7.4.1,>=6.1.3->voila) (0.4)\n",
      "Requirement already satisfied: pyzmq>=23.0 in /root/mambaforge/lib/python3.9/site-packages (from jupyter-client<=7.4.1,>=6.1.3->voila) (23.2.0)\n",
      "Requirement already satisfied: python-dateutil>=2.8.2 in /root/mambaforge/lib/python3.9/site-packages (from jupyter-client<=7.4.1,>=6.1.3->voila) (2.8.2)\n",
      "Requirement already satisfied: nbformat>=5.2.0 in /root/mambaforge/lib/python3.9/site-packages (from jupyter-server<2.0.0,>=1.18->voila) (5.4.0)\n",
      "Requirement already satisfied: terminado>=0.8.3 in /root/mambaforge/lib/python3.9/site-packages (from jupyter-server<2.0.0,>=1.18->voila) (0.15.0)\n",
      "Requirement already satisfied: Send2Trash in /root/mambaforge/lib/python3.9/site-packages (from jupyter-server<2.0.0,>=1.18->voila) (1.8.0)\n",
      "Requirement already satisfied: packaging in /root/mambaforge/lib/python3.9/site-packages (from jupyter-server<2.0.0,>=1.18->voila) (21.3)\n",
      "Requirement already satisfied: websocket-client in /root/mambaforge/lib/python3.9/site-packages (from jupyter-server<2.0.0,>=1.18->voila) (0.57.0)\n",
      "Requirement already satisfied: argon2-cffi in /root/mambaforge/lib/python3.9/site-packages (from jupyter-server<2.0.0,>=1.18->voila) (21.3.0)\n",
      "Requirement already satisfied: jinja2 in /root/mambaforge/lib/python3.9/site-packages (from jupyter-server<2.0.0,>=1.18->voila) (3.1.2)\n",
      "Requirement already satisfied: anyio<4,>=3.1.0 in /root/mambaforge/lib/python3.9/site-packages (from jupyter-server<2.0.0,>=1.18->voila) (3.6.1)\n",
      "Requirement already satisfied: prometheus-client in /root/mambaforge/lib/python3.9/site-packages (from jupyter-server<2.0.0,>=1.18->voila) (0.9.0)\n",
      "Requirement already satisfied: requests in /root/mambaforge/lib/python3.9/site-packages (from jupyterlab-server<3,>=2.3.0->voila) (2.27.1)\n",
      "Requirement already satisfied: json5 in /root/mambaforge/lib/python3.9/site-packages (from jupyterlab-server<3,>=2.3.0->voila) (0.9.5)\n",
      "Requirement already satisfied: babel in /root/mambaforge/lib/python3.9/site-packages (from jupyterlab-server<3,>=2.3.0->voila) (2.10.3)\n",
      "Requirement already satisfied: jsonschema>=3.0.1 in /root/mambaforge/lib/python3.9/site-packages (from jupyterlab-server<3,>=2.3.0->voila) (4.6.1)\n",
      "Requirement already satisfied: importlib-metadata>=3.6 in /root/mambaforge/lib/python3.9/site-packages (from jupyterlab-server<3,>=2.3.0->voila) (4.11.4)\n",
      "Requirement already satisfied: jupyterlab-pygments in /root/mambaforge/lib/python3.9/site-packages (from nbconvert<8,>=6.4.5->voila) (0.2.2)\n",
      "Requirement already satisfied: beautifulsoup4 in /root/mambaforge/lib/python3.9/site-packages (from nbconvert<8,>=6.4.5->voila) (4.11.1)\n",
      "Requirement already satisfied: bleach in /root/mambaforge/lib/python3.9/site-packages (from nbconvert<8,>=6.4.5->voila) (5.0.1)\n",
      "Requirement already satisfied: MarkupSafe>=2.0 in /root/mambaforge/lib/python3.9/site-packages (from nbconvert<8,>=6.4.5->voila) (2.1.1)\n",
      "Requirement already satisfied: defusedxml in /root/mambaforge/lib/python3.9/site-packages (from nbconvert<8,>=6.4.5->voila) (0.7.1)\n",
      "Requirement already satisfied: tinycss2 in /root/mambaforge/lib/python3.9/site-packages (from nbconvert<8,>=6.4.5->voila) (1.1.1)\n",
      "Requirement already satisfied: mistune<2,>=0.8.1 in /root/mambaforge/lib/python3.9/site-packages (from nbconvert<8,>=6.4.5->voila) (0.8.4)\n",
      "Requirement already satisfied: pygments>=2.4.1 in /root/mambaforge/lib/python3.9/site-packages (from nbconvert<8,>=6.4.5->voila) (2.12.0)\n",
      "Requirement already satisfied: pandocfilters>=1.4.1 in /root/mambaforge/lib/python3.9/site-packages (from nbconvert<8,>=6.4.5->voila) (1.5.0)\n",
      "Requirement already satisfied: idna>=2.8 in /root/mambaforge/lib/python3.9/site-packages (from anyio<4,>=3.1.0->jupyter-server<2.0.0,>=1.18->voila) (3.3)\n",
      "Requirement already satisfied: sniffio>=1.1 in /root/mambaforge/lib/python3.9/site-packages (from anyio<4,>=3.1.0->jupyter-server<2.0.0,>=1.18->voila) (1.2.0)\n",
      "Requirement already satisfied: zipp>=0.5 in /root/mambaforge/lib/python3.9/site-packages (from importlib-metadata>=3.6->jupyterlab-server<3,>=2.3.0->voila) (3.8.0)\n",
      "Requirement already satisfied: attrs>=17.4.0 in /root/mambaforge/lib/python3.9/site-packages (from jsonschema>=3.0.1->jupyterlab-server<3,>=2.3.0->voila) (18.2.0)\n",
      "Requirement already satisfied: pyrsistent!=0.17.0,!=0.17.1,!=0.17.2,>=0.14.0 in /root/mambaforge/lib/python3.9/site-packages (from jsonschema>=3.0.1->jupyterlab-server<3,>=2.3.0->voila) (0.18.1)\n",
      "Requirement already satisfied: fastjsonschema in /root/mambaforge/lib/python3.9/site-packages (from nbformat>=5.2.0->jupyter-server<2.0.0,>=1.18->voila) (2.15.3)\n",
      "Requirement already satisfied: six>=1.5 in /root/mambaforge/lib/python3.9/site-packages (from python-dateutil>=2.8.2->jupyter-client<=7.4.1,>=6.1.3->voila) (1.16.0)\n",
      "Requirement already satisfied: ptyprocess in /root/mambaforge/lib/python3.9/site-packages (from terminado>=0.8.3->jupyter-server<2.0.0,>=1.18->voila) (0.7.0)\n",
      "Requirement already satisfied: argon2-cffi-bindings in /root/mambaforge/lib/python3.9/site-packages (from argon2-cffi->jupyter-server<2.0.0,>=1.18->voila) (21.2.0)\n",
      "Requirement already satisfied: pytz>=2015.7 in /root/mambaforge/lib/python3.9/site-packages (from babel->jupyterlab-server<3,>=2.3.0->voila) (2022.1)\n",
      "Requirement already satisfied: soupsieve>1.2 in /root/mambaforge/lib/python3.9/site-packages (from beautifulsoup4->nbconvert<8,>=6.4.5->voila) (2.3.1)\n",
      "Requirement already satisfied: webencodings in /root/mambaforge/lib/python3.9/site-packages (from bleach->nbconvert<8,>=6.4.5->voila) (0.5.1)\n",
      "Requirement already satisfied: pyparsing!=3.0.5,>=2.0.2 in /root/mambaforge/lib/python3.9/site-packages (from packaging->jupyter-server<2.0.0,>=1.18->voila) (3.0.9)\n",
      "Requirement already satisfied: urllib3<1.27,>=1.21.1 in /root/mambaforge/lib/python3.9/site-packages (from requests->jupyterlab-server<3,>=2.3.0->voila) (1.26.9)\n",
      "Requirement already satisfied: charset-normalizer~=2.0.0 in /root/mambaforge/lib/python3.9/site-packages (from requests->jupyterlab-server<3,>=2.3.0->voila) (2.0.12)\n",
      "Requirement already satisfied: certifi>=2017.4.17 in /root/mambaforge/lib/python3.9/site-packages (from requests->jupyterlab-server<3,>=2.3.0->voila) (2022.6.15)\n",
      "Requirement already satisfied: cffi>=1.0.1 in /root/mambaforge/lib/python3.9/site-packages (from argon2-cffi-bindings->argon2-cffi->jupyter-server<2.0.0,>=1.18->voila) (1.15.0)\n",
      "Requirement already satisfied: pycparser in /root/mambaforge/lib/python3.9/site-packages (from cffi>=1.0.1->argon2-cffi-bindings->argon2-cffi->jupyter-server<2.0.0,>=1.18->voila) (2.21)\n",
      "\u001b[33mWARNING: Running pip as the 'root' user can result in broken permissions and conflicting behaviour with the system package manager. It is recommended to use a virtual environment instead: https://pip.pypa.io/warnings/venv\u001b[0m\u001b[33m\n",
      "\u001b[0mEnabling: voila\n",
      "- Writing config: /root/mambaforge/etc/jupyter\n",
      "    - Validating...\n",
      "      voila 0.4.0 \u001b[32mOK\u001b[0m\n"
     ]
    }
   ],
   "source": [
    "#hide\n",
    "!pip install voila\n",
    "!jupyter serverextension enable --sys-prefix voila "
   ]
  },
  {
   "cell_type": "code",
   "execution_count": 49,
   "id": "9ff4d063-7ca7-4a40-98de-9621e59d4220",
   "metadata": {
    "execution": {
     "iopub.execute_input": "2022-10-29T16:50:35.567828Z",
     "iopub.status.busy": "2022-10-29T16:50:35.567339Z",
     "iopub.status.idle": "2022-10-29T16:50:36.059898Z",
     "shell.execute_reply": "2022-10-29T16:50:36.057891Z",
     "shell.execute_reply.started": "2022-10-29T16:50:35.567780Z"
    }
   },
   "outputs": [
    {
     "name": "stdout",
     "output_type": "stream",
     "text": [
      "/bin/bash: -c: line 0: unexpected EOF while looking for matching ``'\n",
      "/bin/bash: -c: line 1: syntax error: unexpected end of file\n"
     ]
    }
   ],
   "source": [
    "! [ -e /content ]` && pip install -Uqq fastbook\n",
    "import fastbook\n",
    "fastbook.setup_book()"
   ]
  },
  {
   "cell_type": "code",
   "execution_count": 50,
   "id": "1ae161e0-fdf2-45ff-90c8-ea50705b30e1",
   "metadata": {
    "execution": {
     "iopub.execute_input": "2022-10-29T16:50:36.062397Z",
     "iopub.status.busy": "2022-10-29T16:50:36.061872Z",
     "iopub.status.idle": "2022-10-29T16:50:36.071936Z",
     "shell.execute_reply": "2022-10-29T16:50:36.070251Z",
     "shell.execute_reply.started": "2022-10-29T16:50:36.062352Z"
    }
   },
   "outputs": [],
   "source": [
    "#hide\n",
    "from fastbook import *\n",
    "from fastai.vision.widgets import *\n"
   ]
  },
  {
   "cell_type": "code",
   "execution_count": 51,
   "id": "29cd298b-9069-48e0-92f8-ab26d539ee64",
   "metadata": {
    "execution": {
     "iopub.execute_input": "2022-10-29T16:50:36.074692Z",
     "iopub.status.busy": "2022-10-29T16:50:36.074155Z",
     "iopub.status.idle": "2022-10-29T16:50:36.411012Z",
     "shell.execute_reply": "2022-10-29T16:50:36.409150Z",
     "shell.execute_reply.started": "2022-10-29T16:50:36.074653Z"
    }
   },
   "outputs": [],
   "source": [
    "path = Path()\n",
    "learn_inf = load_learner(path/'export.pkl')"
   ]
  },
  {
   "cell_type": "code",
   "execution_count": 52,
   "id": "2fb63648-4209-415d-a592-63e8acc28210",
   "metadata": {
    "execution": {
     "iopub.execute_input": "2022-10-29T16:50:36.415554Z",
     "iopub.status.busy": "2022-10-29T16:50:36.414922Z",
     "iopub.status.idle": "2022-10-29T16:50:36.434325Z",
     "shell.execute_reply": "2022-10-29T16:50:36.432420Z",
     "shell.execute_reply.started": "2022-10-29T16:50:36.415505Z"
    }
   },
   "outputs": [],
   "source": [
    "btn_upload = widgets.FileUpload()"
   ]
  },
  {
   "cell_type": "code",
   "execution_count": 53,
   "id": "6419b567-5a35-48e0-9bc6-b782aa5b48c4",
   "metadata": {
    "execution": {
     "iopub.execute_input": "2022-10-29T16:50:36.438563Z",
     "iopub.status.busy": "2022-10-29T16:50:36.436560Z",
     "iopub.status.idle": "2022-10-29T16:50:36.522149Z",
     "shell.execute_reply": "2022-10-29T16:50:36.519248Z",
     "shell.execute_reply.started": "2022-10-29T16:50:36.438502Z"
    }
   },
   "outputs": [
    {
     "data": {
      "image/png": "[encoded data removed]",
      "text/plain": [
       "<PIL.Image.Image image mode=RGB size=90x128>"
      ]
     },
     "metadata": {},
     "output_type": "display_data"
    },
    {
     "data": {
      "application/vnd.jupyter.widget-view+json": {
       "model_id": "c661bec54c754cc6bddda504063790f8",
       "version_major": 2,
       "version_minor": 0
      },
      "text/plain": [
       "Output()"
      ]
     },
     "metadata": {},
     "output_type": "display_data"
    }
   ],
   "source": [
    "out_pl = widgets.Output()\n",
    "out_pl.clear_output()\n",
    "dest = 'images/raccoon.jpg'\n",
    "im = Image.open(dest)\n",
    "with out_pl: display(im.to_thumb(128,128))\n",
    "out_pl"
   ]
  },
  {
   "cell_type": "code",
   "execution_count": 54,
   "id": "61a104e0-ae40-4283-b323-0f9e6df9d009",
   "metadata": {
    "execution": {
     "iopub.execute_input": "2022-10-29T16:50:36.525195Z",
     "iopub.status.busy": "2022-10-29T16:50:36.524550Z",
     "iopub.status.idle": "2022-10-29T16:50:36.555074Z",
     "shell.execute_reply": "2022-10-29T16:50:36.552707Z",
     "shell.execute_reply.started": "2022-10-29T16:50:36.525149Z"
    }
   },
   "outputs": [],
   "source": [
    "lbl_pred = widgets.Label()\n",
    "lbl_pred.value = 'No value yet'\n",
    "\n",
    "btn_run = widgets.Button(description='Classify')"
   ]
  },
  {
   "cell_type": "code",
   "execution_count": 55,
   "id": "5309ab19-900d-41de-b582-a7c1f0a5ccb9",
   "metadata": {
    "execution": {
     "iopub.execute_input": "2022-10-29T16:50:36.557391Z",
     "iopub.status.busy": "2022-10-29T16:50:36.556880Z",
     "iopub.status.idle": "2022-10-29T16:50:36.570252Z",
     "shell.execute_reply": "2022-10-29T16:50:36.567210Z",
     "shell.execute_reply.started": "2022-10-29T16:50:36.557348Z"
    }
   },
   "outputs": [],
   "source": [
    "def on_click_classify(change):\n",
    "    img = PILImage.create(btn_upload.data[-1])\n",
    "    out_pl.clear_output()\n",
    "    with out_pl: display(img.to_thumb(128,128))\n",
    "    pred,pred_idx,probs = learn_inf.predict(img)\n",
    "    lbl_pred.value = f'Prediction: {pred}; Probability: {probs[pred_idx]:.04f}'\n",
    "\n",
    "\n",
    "btn_run.on_click(on_click_classify)"
   ]
  },
  {
   "cell_type": "code",
   "execution_count": 56,
   "id": "7dea3481-e56d-4ab6-a342-d0353bf9394f",
   "metadata": {
    "execution": {
     "iopub.execute_input": "2022-10-29T16:50:36.572386Z",
     "iopub.status.busy": "2022-10-29T16:50:36.571885Z",
     "iopub.status.idle": "2022-10-29T16:50:36.616204Z",
     "shell.execute_reply": "2022-10-29T16:50:36.614517Z",
     "shell.execute_reply.started": "2022-10-29T16:50:36.572344Z"
    },
    "tags": []
   },
   "outputs": [
    {
     "data": {
      "application/vnd.jupyter.widget-view+json": {
       "model_id": "571936613d2a402b991b75e75a100961",
       "version_major": 2,
       "version_minor": 0
      },
      "text/plain": [
       "VBox(children=(Label(value='Select your animal!'), FileUpload(value={}, description='Upload'), Button(descript…"
      ]
     },
     "metadata": {},
     "output_type": "display_data"
    }
   ],
   "source": [
    "VBox([widgets.Label('Select your animal!'), \n",
    "      btn_upload, btn_run, out_pl, lbl_pred])"
   ]
  },
  {
   "cell_type": "code",
   "execution_count": null,
   "id": "27574f68-96f3-41f9-b5cb-16ae1b2184f3",
   "metadata": {},
   "outputs": [],
   "source": []
  }
 ],
 "metadata": {
  "kernelspec": {
   "display_name": "Python 3 (ipykernel)",
   "language": "python",
   "name": "python3"
  },
  "language_info": {
   "codemirror_mode": {
    "name": "ipython",
    "version": 3
   },
   "file_extension": ".py",
   "mimetype": "text/x-python",
   "name": "python",
   "nbconvert_exporter": "python",
   "pygments_lexer": "ipython3",
   "version": "3.9.13"
  }
 },
 "nbformat": 4,
 "nbformat_minor": 5
}
